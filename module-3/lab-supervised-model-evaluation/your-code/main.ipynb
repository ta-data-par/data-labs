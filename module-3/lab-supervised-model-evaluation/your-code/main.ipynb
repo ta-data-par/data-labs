{
 "cells": [
  {
   "cell_type": "markdown",
   "metadata": {},
   "source": [
    "# Supervised Learning Model Evaluation Lab\n",
    "\n",
    "Complete the exercises below to solidify your knowledge and understanding of supervised learning model evaluation."
   ]
  },
  {
   "cell_type": "code",
   "execution_count": 1,
   "metadata": {},
   "outputs": [],
   "source": [
    "import pandas as pd"
   ]
  },
  {
   "cell_type": "markdown",
   "metadata": {},
   "source": [
    "## Regression Model Evaluation"
   ]
  },
  {
   "cell_type": "code",
   "execution_count": 3,
   "metadata": {},
   "outputs": [],
   "source": [
    "from sklearn.datasets import load_boston\n",
    "\n",
    "data = load_boston()\n",
    "\n",
    "X = pd.DataFrame(data[\"data\"], columns=data[\"feature_names\"])\n",
    "# X = data.iloc[:,:13]\n",
    "y = pd.DataFrame(data[\"target\"], columns=['MEDV'])\n",
    "# y = data.MEDV\n",
    "data = pd.concat([X, y], axis=1)"
   ]
  },
  {
   "cell_type": "markdown",
   "metadata": {},
   "source": [
    "## 1. Split this data set into training (80%) and testing (20%) sets.\n",
    "\n",
    "The `MEDV` field represents the median value of owner-occupied homes (in $1000's) and is the target variable that we will want to predict."
   ]
  },
  {
   "cell_type": "code",
   "execution_count": 17,
   "metadata": {},
   "outputs": [],
   "source": [
    "from sklearn.model_selection import train_test_split\n",
    "\n",
    "X_train,X_test,y_train,y_test = train_test_split(X,y,test_size=0.2)"
   ]
  },
  {
   "cell_type": "markdown",
   "metadata": {},
   "source": [
    "## 2. Train a `LinearRegression` model on this data set and generate predictions on both the training and the testing set."
   ]
  },
  {
   "cell_type": "code",
   "execution_count": 30,
   "metadata": {
    "collapsed": true
   },
   "outputs": [
    {
     "name": "stdout",
     "output_type": "stream",
     "text": [
      "[ 9.18315027 18.9093325  13.53692072 30.71993081 31.2915764  20.82547173\n",
      " 15.07855504 20.76858078 23.24916514 19.17029971 22.52989547 33.49235372\n",
      " 17.73275119 24.71265536 14.56789235 21.74337097 26.35063591 26.0125025\n",
      " 21.57751527 28.98534614 22.6281822  17.63112776 13.8470178  19.88874749\n",
      " 21.18132126 17.35913103 16.74955323 22.49127866 36.08556481 13.72783755\n",
      " 15.83971617 25.73638889 34.77119985 25.52643986 16.64416557 32.70952522\n",
      " 22.59397893 13.14973956 17.75050926 31.016355   14.16363369 27.93297166\n",
      " 21.53567873 27.14764496 19.73746788 30.46806127 12.35010316 29.99373069\n",
      " 20.04447157 12.59093734 36.24050596 11.3193826  29.59153122 19.62756602\n",
      " 15.84696669 33.05014138 18.87768126 21.1424275  13.73173903 -5.2566788\n",
      " 24.08894135 16.9998752  16.63254278 19.81949336 20.22611502 17.08365964\n",
      " 13.29564658 22.61965103 22.90846965 29.2570923  25.53880443 12.29692537\n",
      " 39.35655721 20.27037065  6.2990659  16.27037514 20.58948251 15.74184524\n",
      " 13.05540534 19.90528397 20.4186742  19.45902411 31.9071134  18.9559924\n",
      " 24.84270361 15.76122408 19.24704863 27.61687872 35.57514785 16.61137936\n",
      " 28.79962503 21.77809382 31.19672194 21.47913472 37.23190163 24.20599835\n",
      "  3.1923308  12.80319322 26.98740311 22.27688548 19.8642457   5.77802716]\n",
      "\n",
      "[31.49547911 17.19809557 20.49687114 11.24112501 31.05109262  8.29277561\n",
      " 20.89663657 27.59242349 24.53045488 17.4370485   9.4574958  23.23993692\n",
      " 20.89882096 19.82809559  8.71060274 26.41832027  9.68665828 28.6122169\n",
      " 17.53362598 23.81457322 18.706669   21.93574628  7.36150933  4.87081495\n",
      " 28.51147481 25.0072451  15.45163943 28.67437643 11.96493238 23.26216868\n",
      " 19.22790953 26.85282827 15.49599604 18.90924656 23.88173144 23.8285195\n",
      " 23.08591496 35.510403   23.36177991 34.63721648 20.03893846 22.82202194\n",
      " 22.5037222  24.75108631 24.10673704 30.21058337 20.10872022 21.8319462\n",
      " 31.01572489 32.63205619 22.19923307 28.41812797 13.91960118 18.18029572\n",
      " 30.37700955 14.20732637 29.90663034 25.2952898  29.85547443 13.89386241\n",
      " 19.13636833 36.37055309 30.1491588  17.95393167 17.97284667 20.12557529\n",
      " 11.35236375 18.78095668 43.05470169 24.97373515 21.53043129 19.19080869\n",
      " 19.8250109  33.050797   24.1194753  24.12431028  0.77368731 22.65820606\n",
      " 18.50929391 23.5413404  25.48974934 24.0846484  25.31941087 33.4854392\n",
      "  9.79949269 24.06718032 35.95266437 24.25719982 38.15885692 20.38583961\n",
      " 14.41592156 34.22055751 19.6665378  21.95637382 29.00465621 22.98154423\n",
      " 21.50355705 18.17106062 18.2913585  13.04485253 24.78832527 45.34648487\n",
      " 20.69922467 17.29640547 15.9790406  13.88255734 17.38342601 19.86986636\n",
      " 31.74125126 19.98684408 26.08488655 15.08692613 20.56361895 29.27820395\n",
      " 22.30765513 19.66692942 37.89095713 23.0375848  14.05681433 13.13990419\n",
      " 23.87325899 15.51973245 27.13895528 24.54924792 18.39563061 18.32255839\n",
      " 13.4372731  24.91695903  6.41267763 14.5396194  37.01529482 16.07696011\n",
      " 24.42738928 19.74564249 12.68059052 35.21562156 13.97316443 29.44402926\n",
      "  7.6936825  32.03578036  8.74504836 17.22271703 18.78680498 13.98401425\n",
      " 19.73304815 11.5137854  28.55556207 22.39122363 41.36988813 24.52275482\n",
      " 25.22098836 11.19007709 11.69727747 25.32755938 26.85105506 36.49310147\n",
      " 17.45337986 23.47257241 33.88444225 20.15238176 30.39252999 21.40191841\n",
      " 28.85325877 27.83025984 24.4306478  17.50628962 27.59982652  5.63214641\n",
      " 18.84467486 21.08817287 23.35823695 13.48907441 32.60934668 37.20956584\n",
      " 18.86242864 24.69617645 25.88624486 13.58384554 23.28588061 17.79949291\n",
      " 22.22515087 37.99152219 18.3631541  19.52858451 15.39456141 27.83290326\n",
      " 23.28684642 23.13941434 41.13908381 21.45563811 28.56048264 21.33490013\n",
      " 29.53878103 24.7990002  15.88553144 30.85260387 17.68449176 21.50532503\n",
      " 42.72141133 17.46904487 41.62004483 28.34958172 24.07530229 20.1196835\n",
      " 23.98370163 27.29092337 28.83179458 29.24123941 20.9505525  24.73208344\n",
      " 12.31102102 17.49433793 34.65452048 28.09414447 16.46083962 43.99765304\n",
      " 16.67541988 13.98210531 19.67212801 28.40255306 32.88324892 14.98870471\n",
      " 27.13014032 19.21891023 22.66111062 41.29634853 31.60911976 19.69282101\n",
      " 15.78180119 33.07929844 20.7798379  14.2387924   6.64947709 17.57412869\n",
      " 39.04911392 18.85769005 26.98327103 18.08411013 36.48789538 43.93869184\n",
      " 25.83318412  7.71690396 18.93445699 21.35655707 13.47514264 27.18287894\n",
      " 34.77422626 14.16631586 26.51600128 33.27905228 11.36005628 26.7482424\n",
      "  7.75380918 19.69420183 22.08849824 18.55634963 24.78911174 27.16646578\n",
      " 14.70346601 25.8664013  18.37572374 24.9021057  26.37245668 21.7219741\n",
      " 34.67137928 15.48593088 20.58325951 41.21326604 22.02312821 20.39569638\n",
      " 22.54329794 11.386536    7.13818871 23.28453226 20.64060413 20.91201696\n",
      " 22.85586961 22.53373191 17.83088741  8.35365422 28.03093908 30.6855676\n",
      " 18.57911316 21.45807655 35.03796908 27.33016274 22.75435211 19.37636811\n",
      " 20.11195236 23.30838192 33.85953222 27.06514022 21.32592624 32.75297324\n",
      " 25.01009005 24.89930452 24.3212266  30.51134209  7.48837583  4.17329643\n",
      " 17.58369588 19.89454553 19.85853888 13.87595605 12.77142611 11.80951884\n",
      " 24.47390153 28.03431007 15.3425171  26.09927704 20.3682094  19.53149219\n",
      " 31.34649649 24.75475152 23.81198265 19.75617037 28.52807208 14.34571446\n",
      " 36.46878229 39.69765339 24.87430738 34.59854243 21.18460816 34.01104357\n",
      " 24.56342673 22.86897477 11.33869607 27.6058061  17.40688415 18.53168665\n",
      " 27.95429616 11.95981221 20.89591398 21.09103944 20.10408998 24.44441805\n",
      " 18.36625216 35.5240968  36.22436993 26.10380026 16.18888443 18.55434015\n",
      " 16.50278708 31.78878927 18.71040931 13.27644311 25.14881967 33.01480336\n",
      "  2.63700347 14.09211991  4.72227829 31.94646951 22.6397809  17.37885506\n",
      " 38.77540527 33.22066991 21.23155879 35.75782608 17.79055089  1.33050185\n",
      " 38.51637875 11.97780552 20.26170288 41.52890078 31.00550505 25.14056569\n",
      " 13.05619522 13.59302695 19.40166417 21.52386955 24.1443331  39.46221538\n",
      " 30.81707372 32.61663164 11.28593735 33.04198662 20.68567208 28.99941619\n",
      " 30.7241783  21.80292523 34.53404396 22.66554498 19.84099871 14.96935362\n",
      " 23.36608031 17.81078453 23.46155691 17.6888602  20.38048764 25.42854308\n",
      " 25.33738596 30.25213229 27.09780276 33.90733583 33.66055072  6.53825882\n",
      " 23.66894985 17.04942054 17.08018634  9.76642439 25.20325896 36.28314588\n",
      " 19.88790041 18.4994237 ]\n"
     ]
    }
   ],
   "source": [
    "from sklearn import linear_model\n",
    "model = linear_model.LinearRegression()\n",
    "model.fit(X_train,y_train) \n",
    "y_pred_test = model.predict(X_test)\n",
    "print(y_pred_test)\n",
    "print('')\n",
    "y_pred_train = model.predict(X_train)\n",
    "print(y_pred_train)"
   ]
  },
  {
   "cell_type": "markdown",
   "metadata": {},
   "source": [
    "## 3. Calculate and print R-squared for both the training and the testing set."
   ]
  },
  {
   "cell_type": "code",
   "execution_count": 23,
   "metadata": {},
   "outputs": [
    {
     "name": "stdout",
     "output_type": "stream",
     "text": [
      "0.6924466811059868\n",
      "0.7442073369477029\n"
     ]
    }
   ],
   "source": [
    "from sklearn.metrics import r2_score\n",
    "r_test = r2_score(y_test, y_pred_test)\n",
    "print(r_test)\n",
    "r_train = r2_score(y_train, y_pred_train) \n",
    "print(r_train)"
   ]
  },
  {
   "cell_type": "markdown",
   "metadata": {},
   "source": [
    "## 4. Calculate and print mean squared error for both the training and the testing set."
   ]
  },
  {
   "cell_type": "code",
   "execution_count": 35,
   "metadata": {},
   "outputs": [
    {
     "name": "stdout",
     "output_type": "stream",
     "text": [
      "18.68388688483125\n",
      "23.04091359014181\n"
     ]
    }
   ],
   "source": [
    "from sklearn.metrics import mean_squared_error\n",
    "\n",
    "r_error_test = mean_squared_error(y_test, y_pred_test) \n",
    "print(r_error_test)\n",
    "r_error_train = mean_squared_error(y_train, y_pred_train) \n",
    "print(r_error_train)"
   ]
  },
  {
   "cell_type": "markdown",
   "metadata": {},
   "source": [
    "## 5. Calculate and print mean absolute error for both the training and the testing set."
   ]
  },
  {
   "cell_type": "code",
   "execution_count": 38,
   "metadata": {},
   "outputs": [
    {
     "name": "stdout",
     "output_type": "stream",
     "text": [
      "3.205410622663202\n",
      "3.3361195201959033\n"
     ]
    }
   ],
   "source": [
    "from sklearn.metrics import mean_absolute_error\n",
    "\n",
    "r_errabs_test = mean_absolute_error(y_test, y_pred_test)\n",
    "print(r_errabs_test)\n",
    "r_errabs_train = mean_absolute_error(y_train, y_pred_train) \n",
    "print(r_errabs_train)"
   ]
  },
  {
   "cell_type": "markdown",
   "metadata": {},
   "source": [
    "## Classification Model Evaluation"
   ]
  },
  {
   "cell_type": "code",
   "execution_count": 39,
   "metadata": {},
   "outputs": [],
   "source": [
    "from sklearn.datasets import load_iris\n",
    "\n",
    "data = load_iris()\n",
    "\n",
    "X = pd.DataFrame(data[\"data\"], columns=data[\"feature_names\"])\n",
    "y = pd.DataFrame(data[\"target\"], columns=[\"class\"])\n",
    "\n",
    "data = pd.concat([X, y], axis=1)"
   ]
  },
  {
   "cell_type": "markdown",
   "metadata": {},
   "source": [
    "## 6. Split this data set into training (80%) and testing (20%) sets.\n",
    "\n",
    "The `class` field represents the type of flower and is the target variable that we will want to predict."
   ]
  },
  {
   "cell_type": "code",
   "execution_count": 40,
   "metadata": {},
   "outputs": [],
   "source": [
    "X_train,X_test,y_train,y_test = train_test_split(X,y,test_size=0.2)"
   ]
  },
  {
   "cell_type": "markdown",
   "metadata": {},
   "source": [
    "## 7. Train a `LogisticRegression` model on this data set and generate predictions on both the training and the testing set."
   ]
  },
  {
   "cell_type": "code",
   "execution_count": 46,
   "metadata": {
    "collapsed": true
   },
   "outputs": [
    {
     "name": "stdout",
     "output_type": "stream",
     "text": [
      "[2 2 2 2 0 0 1 0 1 2 2 0 1 0 2 1 0 0 0 2 1 1 0 1 2 1 2 1 1 0]\n",
      "\n",
      "[0 2 0 1 2 0 2 1 2 1 1 1 1 2 2 2 0 2 2 2 2 2 1 0 0 1 2 2 0 2 1 1 2 2 2 2 2\n",
      " 0 0 2 1 1 2 0 0 0 2 1 1 0 0 2 2 0 1 0 0 2 1 2 2 0 0 1 1 0 2 2 2 2 0 2 1 0\n",
      " 1 0 0 0 2 2 1 1 0 0 2 0 0 0 0 0 1 1 0 2 1 0 0 2 2 0 0 1 2 1 2 2 2 0 1 2 1\n",
      " 2 1 0 2 1 2 1 2 0]\n"
     ]
    },
    {
     "name": "stderr",
     "output_type": "stream",
     "text": [
      "/anaconda3/lib/python3.7/site-packages/sklearn/linear_model/logistic.py:433: FutureWarning: Default solver will be changed to 'lbfgs' in 0.22. Specify a solver to silence this warning.\n",
      "  FutureWarning)\n",
      "/anaconda3/lib/python3.7/site-packages/sklearn/utils/validation.py:761: DataConversionWarning: A column-vector y was passed when a 1d array was expected. Please change the shape of y to (n_samples, ), for example using ravel().\n",
      "  y = column_or_1d(y, warn=True)\n",
      "/anaconda3/lib/python3.7/site-packages/sklearn/linear_model/logistic.py:460: FutureWarning: Default multi_class will be changed to 'auto' in 0.22. Specify the multi_class option to silence this warning.\n",
      "  \"this warning.\", FutureWarning)\n"
     ]
    }
   ],
   "source": [
    "from sklearn.linear_model import LogisticRegression\n",
    "model = linear_model.LogisticRegression()\n",
    "model.fit(X_train,y_train) \n",
    "y_pred_test = model.predict(X_test)\n",
    "print(y_pred_test)\n",
    "print('')\n",
    "y_pred_train = model.predict(X_train)\n",
    "print(y_pred_train)"
   ]
  },
  {
   "cell_type": "markdown",
   "metadata": {},
   "source": [
    "## 8. Calculate and print the accuracy score for both the training and the testing set."
   ]
  },
  {
   "cell_type": "code",
   "execution_count": 48,
   "metadata": {},
   "outputs": [
    {
     "name": "stdout",
     "output_type": "stream",
     "text": [
      "0.9333333333333333\n",
      "0.95\n"
     ]
    }
   ],
   "source": [
    "from sklearn.metrics import accuracy_score\n",
    "\n",
    "acc_test = accuracy_score(y_test, y_pred_test)\n",
    "print(acc_test)\n",
    "acc_train = accuracy_score(y_train, y_pred_train)\n",
    "print(acc_train)"
   ]
  },
  {
   "cell_type": "markdown",
   "metadata": {},
   "source": [
    "## 9. Calculate and print the balanced accuracy score for both the training and the testing set."
   ]
  },
  {
   "cell_type": "code",
   "execution_count": 50,
   "metadata": {},
   "outputs": [
    {
     "name": "stdout",
     "output_type": "stream",
     "text": [
      "0.9444444444444445\n",
      "0.9473684210526315\n"
     ]
    }
   ],
   "source": [
    "from sklearn.metrics import balanced_accuracy_score\n",
    "\n",
    "balacc_test = balanced_accuracy_score(y_test, y_pred_test)\n",
    "print(balacc_test)\n",
    "balacc_train = balanced_accuracy_score(y_train, y_pred_train)\n",
    "print(balacc_train)"
   ]
  },
  {
   "cell_type": "markdown",
   "metadata": {},
   "source": [
    "## 10. Calculate and print the precision score for both the training and the testing set."
   ]
  },
  {
   "cell_type": "code",
   "execution_count": 52,
   "metadata": {},
   "outputs": [
    {
     "name": "stdout",
     "output_type": "stream",
     "text": [
      "0.9333333333333333\n",
      "0.95\n"
     ]
    }
   ],
   "source": [
    "from sklearn.metrics import precision_score\n",
    "\n",
    "pres_sco_test = precision_score(y_test, y_pred_test, average='micro')\n",
    "print(pres_sco_test)\n",
    "pres_sco_train = precision_score(y_train, y_pred_train, average='micro')\n",
    "print(pres_sco_train)"
   ]
  },
  {
   "cell_type": "markdown",
   "metadata": {},
   "source": [
    "## 11. Calculate and print the recall score for both the training and the testing set."
   ]
  },
  {
   "cell_type": "code",
   "execution_count": 56,
   "metadata": {},
   "outputs": [
    {
     "name": "stdout",
     "output_type": "stream",
     "text": [
      "0.9333333333333333\n",
      "0.95\n"
     ]
    }
   ],
   "source": [
    "from sklearn.metrics import recall_score\n",
    "\n",
    "recall_test = recall_score(y_test, y_pred_test, average='micro')  \n",
    "print(recall_test)\n",
    "recall_train = recall_score(y_train, y_pred_train, average='micro')\n",
    "print(recall_train)"
   ]
  },
  {
   "cell_type": "markdown",
   "metadata": {},
   "source": [
    "## 12. Calculate and print the F1 score for both the training and the testing set."
   ]
  },
  {
   "cell_type": "code",
   "execution_count": 57,
   "metadata": {},
   "outputs": [
    {
     "name": "stdout",
     "output_type": "stream",
     "text": [
      "0.9333333333333333\n",
      "0.9500000000000001\n"
     ]
    }
   ],
   "source": [
    "from sklearn.metrics import f1_score\n",
    "\n",
    "f1_test = f1_score(y_test, y_pred_test, average='micro')  \n",
    "print(f1_test)\n",
    "f1_train = f1_score(y_train, y_pred_train, average='micro')  \n",
    "print(f1_train)"
   ]
  },
  {
   "cell_type": "markdown",
   "metadata": {},
   "source": [
    "## 13. Generate confusion matrices for both the training and the testing set."
   ]
  },
  {
   "cell_type": "code",
   "execution_count": 62,
   "metadata": {},
   "outputs": [
    {
     "name": "stdout",
     "output_type": "stream",
     "text": [
      "[[10  0  0]\n",
      " [ 0 10  2]\n",
      " [ 0  0  8]]\n",
      "\n",
      "[[40  0  0]\n",
      " [ 0 32  6]\n",
      " [ 0  0 42]]\n"
     ]
    }
   ],
   "source": [
    "from sklearn.metrics import confusion_matrix \n",
    "\n",
    "matrix_test = confusion_matrix(y_test,y_pred_test)\n",
    "print(matrix_test)\n",
    "print('')\n",
    "matrix_train = confusion_matrix(y_train,y_pred_train)\n",
    "print(matrix_train)"
   ]
  },
  {
   "cell_type": "markdown",
   "metadata": {},
   "source": [
    "## Bonus: For each of the data sets in this lab, try training with some of the other models you have learned about, recalculate the evaluation metrics, and compare to determine which models perform best on each data set."
   ]
  },
  {
   "cell_type": "code",
   "execution_count": null,
   "metadata": {},
   "outputs": [],
   "source": []
  }
 ],
 "metadata": {
  "kernelspec": {
   "display_name": "Python 3",
   "language": "python",
   "name": "python3"
  },
  "language_info": {
   "codemirror_mode": {
    "name": "ipython",
    "version": 3
   },
   "file_extension": ".py",
   "mimetype": "text/x-python",
   "name": "python",
   "nbconvert_exporter": "python",
   "pygments_lexer": "ipython3",
   "version": "3.7.0"
  }
 },
 "nbformat": 4,
 "nbformat_minor": 2
}

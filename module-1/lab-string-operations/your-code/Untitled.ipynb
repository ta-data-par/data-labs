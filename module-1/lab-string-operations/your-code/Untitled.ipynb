{
 "cells": [
  {
   "cell_type": "code",
   "execution_count": 1,
   "metadata": {},
   "outputs": [],
   "source": [
    "text=\"z tzk droo bzdm, zxsrmtob, wzb yb wzb, rg droo gfim rmgl z xlolhhzo krg, zm zybhh drgslfg ulfmwzgrlm, z tizwfzo rmezhrlm lu dliwh yb nzitrmh, yozmp zmw rmhrtmrurxzmg, hl gszg zoo lu fh, gl z nzm, droo urmw mlgsrmt gl hzb.\"\n"
   ]
  },
  {
   "cell_type": "code",
   "execution_count": null,
   "metadata": {},
   "outputs": [],
   "source": []
  }
 ],
 "metadata": {
  "kernelspec": {
   "display_name": "Python 3",
   "language": "python",
   "name": "python3"
  },
  "language_info": {
   "codemirror_mode": {
    "name": "ipython",
    "version": 3
   },
   "file_extension": ".py",
   "mimetype": "text/x-python",
   "name": "python",
   "nbconvert_exporter": "python",
   "pygments_lexer": "ipython3",
   "version": "3.7.3"
  }
 },
 "nbformat": 4,
 "nbformat_minor": 2
}

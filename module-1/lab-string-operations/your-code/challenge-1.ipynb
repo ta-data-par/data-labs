{
 "cells": [
  {
   "cell_type": "markdown",
   "metadata": {},
   "source": [
    "# String Operations Lab\n",
    "\n",
    "**Before your start:**\n",
    "\n",
    "- Read the README.md file\n",
    "- Comment as much as you can and use the resources in the README.md file\n",
    "- Happy learning!"
   ]
  },
  {
   "cell_type": "code",
   "execution_count": 1,
   "metadata": {},
   "outputs": [],
   "source": [
    "import re"
   ]
  },
  {
   "cell_type": "markdown",
   "metadata": {},
   "source": [
    "# Challenge 1 - Combining Strings\n",
    "\n",
    "Combining strings is an important skill to acquire. There are multiple ways of combining strings in Python, as well as combining strings with variables. We will explore this in the first challenge. In the cell below, combine the strings in the list and add spaces between the strings (do not add a space after the last string). Insert a period after the last string."
   ]
  },
  {
   "cell_type": "code",
   "execution_count": 2,
   "metadata": {},
   "outputs": [
    {
     "data": {
      "text/plain": [
       "'Durante un tiempo no estuvo segura de si su marido era su marido.'"
      ]
     },
     "execution_count": 2,
     "metadata": {},
     "output_type": "execute_result"
    }
   ],
   "source": [
    "str_list = ['Durante', 'un', 'tiempo', 'no', 'estuvo', 'segura', 'de', 'si', 'su', 'marido', 'era', 'su', 'marido']\n",
    "# Your code here:\n",
    "str= ' '.join(str_list)+ '.'\n",
    "str"
   ]
  },
  {
   "cell_type": "markdown",
   "metadata": {},
   "source": [
    "In the cell below, use the list of strings to create a grocery list. Start the list with the string `Grocery list: ` and include a comma and a space between each item except for the last one. Include a period at the end. Only include foods in the list that start with the letter 'b' and ensure all foods are lower case."
   ]
  },
  {
   "cell_type": "code",
   "execution_count": 3,
   "metadata": {},
   "outputs": [
    {
     "data": {
      "text/plain": [
       "'Grocery List: bananas , bread , brownie mix , broccoli.'"
      ]
     },
     "execution_count": 3,
     "metadata": {},
     "output_type": "execute_result"
    }
   ],
   "source": [
    "food_list = ['Bananas', 'Chocolate', 'bread', 'diapers', 'Ice Cream', 'Brownie Mix', 'broccoli']\n",
    "# Your code here:\n",
    "food_list= [i.lower()for i in food_list]\n",
    "grocery_list = 'Grocery List: '+ ' , '.join([i for i in food_list if i.startswith('b')])+ '.'\n",
    "grocery_list\n"
   ]
  },
  {
   "cell_type": "code",
   "execution_count": 4,
   "metadata": {},
   "outputs": [
    {
     "name": "stdout",
     "output_type": "stream",
     "text": [
      "Grocery list:\n",
      "bananas; \n",
      "bread; \n",
      "brownie mix; \n",
      "broccoli.\n"
     ]
    }
   ],
   "source": [
    "food_list= [i.lower()for i in food_list]\n",
    "grocery_list = 'Grocery list:\\n' + '; \\n'.join([i for i in food_list if i.startswith('b')])+ '.'\n",
    "print(grocery_list)\n",
    "\n"
   ]
  },
  {
   "cell_type": "code",
   "execution_count": 14,
   "metadata": {},
   "outputs": [
    {
     "name": "stdout",
     "output_type": "stream",
     "text": [
      "Grocery list:\n",
      "bananas; \n",
      "bread; \n",
      "brownie mix; \n",
      "broccoli.\n"
     ]
    }
   ],
   "source": [
    " #pushes it to lower then check if it starts with b\n",
    "\n",
    "grocery_list = 'Grocery list:\\n' + '; \\n'.join([i for i in food_list if i.lower().startswith('b')])+ '.'\n",
    "print(grocery_list)\n"
   ]
  },
  {
   "cell_type": "code",
   "execution_count": 17,
   "metadata": {},
   "outputs": [
    {
     "name": "stdout",
     "output_type": "stream",
     "text": [
      "Grocery List: bananas, bread, brownie mix, broccoli.\n"
     ]
    }
   ],
   "source": [
    "qqq= []\n",
    "for i in food_list:\n",
    "    i= i.lower()\n",
    "    if i.startswith('b'):\n",
    "        qqq.append(i)\n",
    "str1 = ', '.join(qqq)\n",
    "print('Grocery List: ' + str1 + '.')"
   ]
  },
  {
   "cell_type": "markdown",
   "metadata": {},
   "source": [
    "In the cell below, write a function that computes the area of a circle using its radius. Compute the area of the circle and insert the radius and the area between the two strings. Make sure to include spaces between the variable and the strings. \n",
    "\n",
    "Note: You can use the techniques we have learned so far or use f-strings. F-strings allow us to embed code inside strings. You can read more about f-strings [here](https://www.python.org/dev/peps/pep-0498/)."
   ]
  },
  {
   "cell_type": "code",
   "execution_count": 19,
   "metadata": {},
   "outputs": [
    {
     "name": "stdout",
     "output_type": "stream",
     "text": [
      "enter a number please: 2\n",
      "The area of the circle with radius: 2 is: 12.566370614359172\n"
     ]
    }
   ],
   "source": [
    "import math\n",
    "\n",
    "string1 = \"The area of the circle with radius:\"\n",
    "string2  = \"is:\"\n",
    "radius = 4.5\n",
    "\n",
    "x = int(input('enter a number please: '))\n",
    "\n",
    "def area(x, pi = math.pi):\n",
    "    # This function takes a radius and returns the area of a circle. We also pass a default value for pi.\n",
    "    # Input: Float (and default value for pi)\n",
    "    # Output: Float\n",
    "    \n",
    "    # Sample input: 5.0\n",
    "    # Sample Output: 78.53981633\n",
    "    \n",
    "    # Your code here:\n",
    "    return (pi*x**2)\n",
    "\n",
    "print (string1, x, string2, area(x))\n",
    "    \n",
    "# Your output string here:"
   ]
  },
  {
   "cell_type": "code",
   "execution_count": 22,
   "metadata": {},
   "outputs": [
    {
     "name": "stdout",
     "output_type": "stream",
     "text": [
      "The area of the circle with radius: 4.5 is: 63.61725123519331\n"
     ]
    }
   ],
   "source": [
    "#other solution\n",
    "\n",
    "string1 = \"The area of the circle with radius:\"\n",
    "string2  = \"is:\"\n",
    "radius = 4.5\n",
    "\n",
    "def area(x, pi = math.pi):\n",
    "\n",
    "    print(string1,x,string2,pi*x**2)\n",
    "area (radius)"
   ]
  },
  {
   "cell_type": "code",
   "execution_count": 25,
   "metadata": {},
   "outputs": [
    {
     "name": "stdout",
     "output_type": "stream",
     "text": [
      " The area of the circle with radius: 4.5 is: 63.61725123519331\n"
     ]
    }
   ],
   "source": [
    "#other solution\n",
    "string1 = \"The area of the circle with radius:\"\n",
    "string2  = \"is:\"\n",
    "radius = 4.5\n",
    "\n",
    "def area(x, pi = math.pi):\n",
    "    \n",
    "    print(f' {string1} {x} {string2} {pi*x**2}')\n",
    "area(radius)\n",
    "    "
   ]
  },
  {
   "cell_type": "markdown",
   "metadata": {},
   "source": [
    "# Challenge 2 - Splitting Strings\n",
    "\n",
    "We have first looked at combining strings into one long string. There are times where we need to do the opposite and split the string into smaller components for further analysis. \n",
    "\n",
    "In the cell below, split the string into a list of strings using the space delimiter. Count the frequency of each word in the string in a dictionary. Strip the periods, line breaks and commas from the text. Make sure to remove empty strings from your dictionary."
   ]
  },
  {
   "cell_type": "code",
   "execution_count": 63,
   "metadata": {},
   "outputs": [
    {
     "name": "stdout",
     "output_type": "stream",
     "text": [
      "['some', 'say', 'the', 'world', 'will', 'end', 'in', 'fire', 'some', 'say', 'in', 'ice', 'from', 'what', 'i’ve', 'tasted', 'of', 'desire', 'i', 'hold', 'with', 'those', 'who', 'favor', 'fire', 'but', 'if', 'it', 'had', 'to', 'perish', 'twice', 'i', 'think', 'i', 'know', 'enough', 'of', 'hate', 'to', 'say', 'that', 'for', 'destruction', 'ice', 'is', 'also', 'great', 'and', 'would', 'suffice']\n",
      "{'o': 1, 'favor': 1, 'hink': 1, 'with': 1, 'he': 1, 'who': 1, 'is': 1, 'from': 1, 'fire': 2, 'will': 1, 'i': 4, 'of': 2, 'bu': 1, 'hold': 1, 'hose': 1, 'if': 1, 'destruction': 1, 'grea': 1, 'in': 2, 'i’ve': 1, 'world': 1, 'asted': 1, 'also': 1, 'wha': 1, 'know': 1, 'end': 1, 'wice': 1, 'to': 1, 'some': 2, 'and': 1, 'had': 1, 'say': 3, 'hate': 1, 'for': 1, 'ha': 1, 'suffice': 1, 'enough': 1, 'ice': 2, 'desire': 1, 'perish': 1, 'would': 1}\n",
      "{'o': 1, 'favor': 1, 'hink': 1, 'with': 1, 'he': 1, 'who': 1, 'is': 1, 'from': 1, 'fire': 2, 'will': 1, 'i': 4, 'of': 2, 'bu': 1, 'hold': 1, 'hose': 1, 'if': 1, 'destruction': 1, 'grea': 1, 'in': 2, 'i’ve': 1, 'world': 1, 'asted': 1, 'also': 1, 'wha': 1, 'know': 1, 'end': 1, 'wice': 1, 'to': 1, 'some': 2, 'and': 1, 'had': 1, 'say': 3, 'hate': 1, 'for': 1, 'ha': 1, 'suffice': 1, 'enough': 1, 'ice': 2, 'desire': 1, 'perish': 1, 'would': 1}\n",
      "{'o': 1, 'favor': 1, 'hink': 1, 'with': 1, 'he': 1, 'who': 1, 'is': 1, 'from': 1, 'fire': 2, 'will': 1, 'i': 4, 'of': 2, 'bu': 1, 'hold': 1, 'hose': 1, 'if': 1, 'destruction': 1, 'grea': 1, 'in': 2, 'i’ve': 1, 'world': 1, 'asted': 1, 'also': 1, 'wha': 1, 'know': 1, 'end': 1, 'wice': 1, 'to': 1, 'some': 2, 'and': 1, 'had': 1, 'say': 3, 'hate': 1, 'for': 1, 'ha': 1, 'suffice': 1, 'enough': 1, 'ice': 2, 'desire': 1, 'perish': 1, 'would': 1}\n"
     ]
    }
   ],
   "source": [
    "poem = \"\"\"Some say the world will end in fire,\n",
    "Some say in ice.\n",
    "From what I’ve tasted of desire\n",
    "I hold with those who favor fire.\n",
    "But if it had to perish twice,\n",
    "I think I know enough of hate\n",
    "To say that for destruction ice\n",
    "Is also great\n",
    "And would suffice.\"\"\"\n",
    "\n",
    "# Your code here:\n",
    "\n",
    "#1. text split --> list of words\n",
    "#2. get rid of '. , ; ' = stripping\n",
    "#3. lower\n",
    "#4. into set\n",
    "#5. calculate frequencies\n",
    "\n",
    "poem_split = poem.split() #1.\n",
    "\n",
    "print([i.strip(',.!\\n\\t & - _').lower() for i in poem_split]) #2. #3.\n",
    "\n",
    "qqq_s = set(qqq) #4.\n",
    "\n",
    "dct = {}  #5.\n",
    "for i in qqq_s:\n",
    "    dct.update({i: qqq.count(i)})\n",
    "print(dct)\n",
    "\n",
    "for i in qqq_s:\n",
    "    dct[i]= qqq.count(i) #I count the nb of elements not in the set because it appears only once but in the list\n",
    "print(dct)\n",
    "\n",
    "print({i: qqq.count(i) for i in qqq_s}) #list comprehension version\n"
   ]
  },
  {
   "cell_type": "code",
   "execution_count": 39,
   "metadata": {},
   "outputs": [
    {
     "name": "stdout",
     "output_type": "stream",
     "text": [
      "['some', 'say', 'he', 'world', 'will', 'end', 'in', 'fire', 'some', 'say', 'in', 'ice', 'from', 'wha', 'i’ve', 'asted', 'of', 'desire', 'i', 'hold', 'with', 'hose', 'who', 'favor', 'fire', 'bu', 'if', 'i', 'had', 'o', 'perish', 'wice', 'i', 'hink', 'i', 'know', 'enough', 'of', 'hate', 'to', 'say', 'ha', 'for', 'destruction', 'ice', 'is', 'also', 'grea', 'and', 'would', 'suffice']\n"
     ]
    }
   ],
   "source": [
    "#the FOR loop for splitting\n",
    "\n",
    "poem_split = poem.split()\n",
    "\n",
    "qqq=[]\n",
    "for i in poem_split:\n",
    "    i = i.strip (',.\\n:t ! & -').lower()\n",
    "    qqq.append(i)\n",
    "print(qqq)\n",
    "\n"
   ]
  },
  {
   "cell_type": "code",
   "execution_count": null,
   "metadata": {},
   "outputs": [],
   "source": [
    "#the tidiest way to do it - only 2 lines\n",
    "\n",
    "qqq = [i.strip(',.!\\n\\t & - _').lower() for i in poem_split]\n",
    "{i: qqq.count(i) for i in qqq_s}\n"
   ]
  },
  {
   "cell_type": "markdown",
   "metadata": {},
   "source": [
    "In the cell below, find all the words that appear in the text and do not appear in the blacklist. You must parse the string but can choose any data structure you wish for the words that do not appear in the blacklist. Remove all non letter characters and convert all words to lower case."
   ]
  },
  {
   "cell_type": "code",
   "execution_count": 89,
   "metadata": {},
   "outputs": [
    {
     "name": "stdout",
     "output_type": "stream",
     "text": [
      "['foe', '', 'bore', 'till', 'with', 'beneath', 'friend', 'he', 'my', 'tears', 'mine', 'into', 'garden', 'outstretched', 'night', 'i', 'waterd', 'was', 'grow', 'both', 'soft', 'glad', 'grew', 'bright', 'when', 'beheld', 'day', 'shine', 'morning', 'that', 'told', 'smiles', 'did', 'end', 'apple', 'had', 'deceitful', 'sunned', 'see', 'knew', 'wrath', 'angry', 'not', 'fears', 'wiles', 'pole', 'veild', 'stole', 'tree']\n"
     ]
    }
   ],
   "source": [
    "blacklist = ['and', 'as', 'an', 'a', 'the', 'in', 'it']\n",
    "\n",
    "poem = \"\"\"I was angry with my friend; \n",
    "I told my wrath, my wrath did end.\n",
    "I was angry with my foe: \n",
    "I told it not, my wrath did grow. \n",
    "\n",
    "And I waterd it in fears,\n",
    "Night & morning with my tears: \n",
    "And I sunned it with smiles,\n",
    "And with soft deceitful wiles. \n",
    "\n",
    "And it grew both day and night. \n",
    "Till it bore an apple bright. \n",
    "And my foe beheld it shine,\n",
    "And he knew that it was mine. \n",
    "\n",
    "And into my garden stole, \n",
    "When the night had veild the pole; \n",
    "In the morning glad I see; \n",
    "My foe outstretched beneath the tree.\"\"\"\n",
    "\n",
    "# Your code here:\n",
    "\n",
    "#1.lower\n",
    "#2. split\n",
    "#3. strip\n",
    "#4 set\n",
    "\n",
    "poem_l = poem.lower()\n",
    "poem_split = poem_l.split()\n",
    "\n",
    "poem_s = []\n",
    "for i in poem_split:\n",
    "    i = i.strip('. , ; \\': \\\"\" & \\n\\t')\n",
    "    poem_s.append(i)\n",
    "\n",
    "poem_set = set(poem_s)\n",
    "poem_set\n",
    "    \n",
    "poem_f = []\n",
    "for i in poem_set:\n",
    "    if i not in blacklist:\n",
    "        poem_f.append(i)\n",
    "\n",
    "print([i for i in poem_set if i not in blacklist])"
   ]
  },
  {
   "cell_type": "markdown",
   "metadata": {},
   "source": [
    "# Challenge 3 - Regular Expressions\n",
    "\n",
    "Sometimes, we would like to perform more complex manipulations of our string. This is where regular expressions come in handy. In the cell below, return all characters that are upper case from the string specified below."
   ]
  },
  {
   "cell_type": "code",
   "execution_count": 4,
   "metadata": {},
   "outputs": [
    {
     "data": {
      "text/plain": [
       "['T', 'P']"
      ]
     },
     "execution_count": 4,
     "metadata": {},
     "output_type": "execute_result"
    }
   ],
   "source": [
    "poem = \"\"\"The apparition of these faces in the crowd;\n",
    "Petals on a wet, black bough.\"\"\"\n",
    "\n",
    "# Your code here:\n",
    "\n",
    "pattern = '[A-Z]'\n",
    "re.findall(pattern, poem)"
   ]
  },
  {
   "cell_type": "markdown",
   "metadata": {},
   "source": [
    "In the cell below, filter the list provided and return all elements of the list containing a number. To filter the list, use the `re.search` function. Check if the function does not return `None`. You can read more about the `re.search` function [here](https://docs.python.org/3/library/re.html)."
   ]
  },
  {
   "cell_type": "code",
   "execution_count": 12,
   "metadata": {},
   "outputs": [
    {
     "data": {
      "text/plain": [
       "<re.Match object; span=(2, 8), match='123abc'>"
      ]
     },
     "execution_count": 12,
     "metadata": {},
     "output_type": "execute_result"
    }
   ],
   "source": [
    "data = ['123abc', 'abc123', 'JohnSmith1', 'ABBY4', 'JANE']\n",
    "data = str(data)\n",
    "\n",
    "# Your code here:\n",
    "re.search(r'\\d[0-9A-Za-z]*', data)"
   ]
  },
  {
   "cell_type": "markdown",
   "metadata": {},
   "source": [
    "# Bonus Challenge - Regular Expressions II\n",
    "\n",
    "In the cell below, filter the list provided to keep only strings containing at least one digit and at least one lower case letter. As in the previous question, use the `re.search` function and check that the result is not `None`.\n",
    "\n",
    "To read more about regular expressions, check out [this link](https://developers.google.com/edu/python/regular-expressions)."
   ]
  },
  {
   "cell_type": "code",
   "execution_count": null,
   "metadata": {},
   "outputs": [],
   "source": [
    "data = ['123abc', 'abc123', 'JohnSmith1', 'ABBY4', 'JANE']\n",
    "# Your code here:\n"
   ]
  }
 ],
 "metadata": {
  "kernelspec": {
   "display_name": "Python 3",
   "language": "python",
   "name": "python3"
  },
  "language_info": {
   "codemirror_mode": {
    "name": "ipython",
    "version": 3
   },
   "file_extension": ".py",
   "mimetype": "text/x-python",
   "name": "python",
   "nbconvert_exporter": "python",
   "pygments_lexer": "ipython3",
   "version": "3.7.3"
  }
 },
 "nbformat": 4,
 "nbformat_minor": 2
}

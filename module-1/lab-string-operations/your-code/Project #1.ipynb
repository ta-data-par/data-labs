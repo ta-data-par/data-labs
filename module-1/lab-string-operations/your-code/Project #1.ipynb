{
 "cells": [
  {
   "cell_type": "markdown",
   "metadata": {},
   "source": [
    "# Message Encryption "
   ]
  },
  {
   "cell_type": "code",
   "execution_count": 2,
   "metadata": {},
   "outputs": [],
   "source": [
    "text = \"a gap will yawn, achingly, day by day, it will turn into a colossal pit, an abyss without foundation, a gradual invasion of words by margins, blank and insignificant, so that all of us, to a man, will find nothing to say.\" "
   ]
  },
  {
   "cell_type": "code",
   "execution_count": 3,
   "metadata": {},
   "outputs": [
    {
     "name": "stdout",
     "output_type": "stream",
     "text": [
      "['a', 'gap', 'will', 'yawn,', 'achingly,', 'day', 'by', 'day,', 'it', 'will', 'turn', 'into', 'a', 'colossal', 'pit,', 'an', 'abyss', 'without', 'foundation,', 'a', 'gradual', 'invasion', 'of', 'words', 'by', 'margins,', 'blank', 'and', 'insignificant,', 'so', 'that', 'all', 'of', 'us,', 'to', 'a', 'man,', 'will', 'find', 'nothing', 'to', 'say.']\n",
      "{'a': 'z', 'b': 'y', 'c': 'x', 'd': 'w', 'e': 'v', 'f': 'u', 'g': 't', 'h': 's', 'i': 'r', 'j': 'q', 'k': 'p', 'l': 'o', 'm': 'n', 'n': 'm', 'o': 'l', 'p': 'k', 'q': 'j', 'r': 'i', 's': 'h', 't': 'g', 'u': 'f', 'v': 'e', 'w': 'd', 'x': 'c', 'y': 'b', 'z': 'a'}\n"
     ]
    }
   ],
   "source": [
    "text1 = text.split()\n",
    "print(text1)\n",
    "\n",
    "\n",
    "forward_list=['a','b','c','d','e','f','g','h','i','j','k','l','m','n','o','p','q','r','s','t','u','v','w','x','y','z']\n",
    "backward_list= ['z', 'y', 'x', 'w', 'v', 'u', 't', 's', 'r', 'q', 'p', 'o', 'n', 'm', 'l', 'k', 'j', 'i', 'h', 'g', 'f', 'e', 'd', 'c', 'b', 'a']\n",
    "\n",
    "dict= {}\n",
    "for i in range (len(forward_list)):\n",
    "    dict[forward_list[i]]= backward_list[i]\n",
    "print(dict)"
   ]
  },
  {
   "cell_type": "code",
   "execution_count": 4,
   "metadata": {},
   "outputs": [
    {
     "name": "stdout",
     "output_type": "stream",
     "text": [
      "z tzk droo bzdm, zxsrmtob, wzb yb wzb, rg droo gfim rmgl z xlolhhzo krg, zm zybhh drgslfg ulfmwzgrlm, z tizwfzo rmezhrlm lu dliwh yb nzitrmh, yozmp zmw rmhrtmrurxzmg, hl gszg zoo lu fh, gl z nzm, droo urmw mlgsrmt gl hzb.\n"
     ]
    }
   ],
   "source": [
    "lst = []\n",
    "for i in text: \n",
    "    if i in dict:\n",
    "        dict1 = dict[i]\n",
    "        lst.append(dict1)\n",
    "    else:\n",
    "        lst.append(i)\n",
    "\n",
    "final_text = ''.join(lst)\n",
    "print(final_text)"
   ]
  },
  {
   "cell_type": "code",
   "execution_count": 5,
   "metadata": {},
   "outputs": [
    {
     "name": "stdout",
     "output_type": "stream",
     "text": [
      "{'f', 'd', 'n', 'e', 'z', '.', 'h', 'g', 'w', 'p', 'k', 'o', 'x', 'b', 'i', 's', 't', 'l', ' ', 'r', 'y', 'u', 'm', ','}\n"
     ]
    }
   ],
   "source": [
    "set2= set(final_text)\n",
    "print(set2)"
   ]
  },
  {
   "cell_type": "code",
   "execution_count": 6,
   "metadata": {},
   "outputs": [
    {
     "data": {
      "text/plain": [
       "{'f': 5,\n",
       " 'd': 7,\n",
       " 'n': 19,\n",
       " 'e': 0,\n",
       " 'z': 0,\n",
       " '.': 1,\n",
       " 'h': 4,\n",
       " 'g': 6,\n",
       " 'w': 6,\n",
       " 'p': 2,\n",
       " 'k': 1,\n",
       " 'o': 14,\n",
       " 'x': 0,\n",
       " 'b': 4,\n",
       " 'i': 18,\n",
       " 's': 11,\n",
       " 't': 13,\n",
       " 'l': 13,\n",
       " ' ': 41,\n",
       " 'r': 4,\n",
       " 'y': 8,\n",
       " 'u': 5,\n",
       " 'm': 2,\n",
       " ',': 9}"
      ]
     },
     "execution_count": 6,
     "metadata": {},
     "output_type": "execute_result"
    }
   ],
   "source": [
    "freq ={i:text.count(i) for i in set2}\n",
    "freq"
   ]
  },
  {
   "cell_type": "code",
   "execution_count": 7,
   "metadata": {},
   "outputs": [],
   "source": [
    "import operator\n"
   ]
  },
  {
   "cell_type": "code",
   "execution_count": 8,
   "metadata": {},
   "outputs": [
    {
     "data": {
      "text/plain": [
       "[('e', 0),\n",
       " ('z', 0),\n",
       " ('x', 0),\n",
       " ('.', 1),\n",
       " ('k', 1),\n",
       " ('p', 2),\n",
       " ('m', 2),\n",
       " ('h', 4),\n",
       " ('b', 4),\n",
       " ('r', 4),\n",
       " ('f', 5),\n",
       " ('u', 5),\n",
       " ('g', 6),\n",
       " ('w', 6),\n",
       " ('d', 7),\n",
       " ('y', 8),\n",
       " (',', 9),\n",
       " ('s', 11),\n",
       " ('t', 13),\n",
       " ('l', 13),\n",
       " ('o', 14),\n",
       " ('i', 18),\n",
       " ('n', 19),\n",
       " (' ', 41)]"
      ]
     },
     "execution_count": 8,
     "metadata": {},
     "output_type": "execute_result"
    }
   ],
   "source": [
    "sorted_dictionary = sorted(freq.items(), key= operator.itemgetter(1))\n",
    "sorted_dictionary"
   ]
  },
  {
   "cell_type": "code",
   "execution_count": 9,
   "metadata": {},
   "outputs": [
    {
     "data": {
      "text/plain": [
       "'A tAk droo bAdm, Axsrmtob, wAb yb wAb, rg droo gfim rmgl A xlolhhAo krg, Am Aybhh drgslfg ulfmwAgrlm, A tiAwfAo rmeAhrlm lu dliwh yb nAitrmh, yoAmp Amw rmhrtmrurxAmg, hl gsAg Aoo lu fh, gl A nAm, droo urmw mlgsrmt gl hAb.'"
      ]
     },
     "execution_count": 9,
     "metadata": {},
     "output_type": "execute_result"
    }
   ],
   "source": [
    "final_text= final_text.replace('z','A')\n",
    "final_text"
   ]
  },
  {
   "cell_type": "code",
   "execution_count": 12,
   "metadata": {},
   "outputs": [
    {
     "data": {
      "text/plain": [
       "'A tAk droo YAdm, AxsrmtoY, wAY yY wAY, rg droo gfim rmgl A xlolhhAo krg, Am AyYhh drgslfg ulfmwAgrlm, A tiAwfAo rmeAhrlm lu dliwh yY nAitrmh, yoAmp Amw rmhrtmrurxAmg, hl gsAg Aoo lu fh, gl A nAm, droo urmw mlgsrmt gl hAY.'"
      ]
     },
     "execution_count": 12,
     "metadata": {},
     "output_type": "execute_result"
    }
   ],
   "source": [
    "final_text= final_text.replace('b','Y')\n",
    "final_text"
   ]
  },
  {
   "cell_type": "code",
   "execution_count": 14,
   "metadata": {},
   "outputs": [
    {
     "data": {
      "text/plain": [
       "'A tAk droo YAdm, AxsrmtoY, wAY BY wAY, rg droo gfim rmgl A xlolhhAo krg, Am ABYhh drgslfg ulfmwAgrlm, A tiAwfAo rmeAhrlm lu dliwh BY nAitrmh, BoAmp Amw rmhrtmrurxAmg, hl gsAg Aoo lu fh, gl A nAm, droo urmw mlgsrmt gl hAY.'"
      ]
     },
     "execution_count": 14,
     "metadata": {},
     "output_type": "execute_result"
    }
   ],
   "source": [
    "final_text= final_text.replace('y','B')\n",
    "final_text"
   ]
  },
  {
   "cell_type": "code",
   "execution_count": null,
   "metadata": {},
   "outputs": [],
   "source": []
  },
  {
   "cell_type": "code",
   "execution_count": null,
   "metadata": {},
   "outputs": [],
   "source": []
  }
 ],
 "metadata": {
  "kernelspec": {
   "display_name": "Python 3",
   "language": "python",
   "name": "python3"
  },
  "language_info": {
   "codemirror_mode": {
    "name": "ipython",
    "version": 3
   },
   "file_extension": ".py",
   "mimetype": "text/x-python",
   "name": "python",
   "nbconvert_exporter": "python",
   "pygments_lexer": "ipython3",
   "version": "3.7.3"
  }
 },
 "nbformat": 4,
 "nbformat_minor": 2
}

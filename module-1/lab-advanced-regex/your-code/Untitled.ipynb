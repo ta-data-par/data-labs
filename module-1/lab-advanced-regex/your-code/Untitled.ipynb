{
 "cells": [
  {
   "cell_type": "markdown",
   "metadata": {},
   "source": [
    "# Message encryption and decryption"
   ]
  },
  {
   "cell_type": "code",
   "execution_count": 20,
   "metadata": {},
   "outputs": [],
   "source": [
    "text= \"The Gadsden Purchase half dollar was a proposed commemorative coin to be issued by the United States Bureau of the Mint. El Paso coin dealer L. W. Hoffecker (pictured) wanted a coin issued he could control and distribute. He gained the support of several members of Congress, and a bill was introduced. Treasury Secretary Andrew W. Mellon sent a letter and two officials in opposition to the bill at its committee hearing but it passed both houses of Congress without dissent \""
   ]
  },
  {
   "cell_type": "code",
   "execution_count": 22,
   "metadata": {},
   "outputs": [],
   "source": [
    "text_s = text.split()"
   ]
  },
  {
   "cell_type": "code",
   "execution_count": null,
   "metadata": {},
   "outputs": [],
   "source": []
  }
 ],
 "metadata": {
  "kernelspec": {
   "display_name": "Python 3",
   "language": "python",
   "name": "python3"
  },
  "language_info": {
   "codemirror_mode": {
    "name": "ipython",
    "version": 3
   },
   "file_extension": ".py",
   "mimetype": "text/x-python",
   "name": "python",
   "nbconvert_exporter": "python",
   "pygments_lexer": "ipython3",
   "version": "3.7.3"
  }
 },
 "nbformat": 4,
 "nbformat_minor": 2
}

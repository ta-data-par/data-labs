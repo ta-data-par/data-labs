{
 "cells": [
  {
   "cell_type": "markdown",
   "metadata": {},
   "source": [
    "### Lecture 2 - I was looking for a house, so I built a web scraper in Python!"
   ]
  },
  {
   "cell_type": "markdown",
   "metadata": {},
   "source": [
    "https://towardsdatascience.com/looking-for-a-house-build-a-web-scraper-to-help-you-5ab25badc83e"
   ]
  },
  {
   "cell_type": "markdown",
   "metadata": {},
   "source": [
    "The second lecture is related to scraping the data from a real state website.\n",
    "\n",
    "After reading the article...\n",
    "\n",
    "- Try to access the robots.txt file of Giphy and Facebook as explained in the article. Can you scrape those web pages? Do some research and try to understand those files.\n",
    "\n",
    "- Did you do some web scraping in your project? Did you have to use some of the tricks the author used regarding time sleep, user-agent, ...? Why? Explain your experience.\n",
    "\n",
    "- Is there anything you think the author missed, something he could improve or do yo have some to-do ideas for him?\n"
   ]
  },
  {
   "cell_type": "markdown",
   "metadata": {},
   "source": [
    "Giphy is not possible : \"404 not found\"\n",
    "Facebook is possible but there is a message : \" Notice: Crawling Facebook is prohibited unless you have express written permission.\" "
   ]
  }
 ],
 "metadata": {
  "kernelspec": {
   "display_name": "Python 3",
   "language": "python",
   "name": "python3"
  },
  "language_info": {
   "codemirror_mode": {
    "name": "ipython",
    "version": 3
   },
   "file_extension": ".py",
   "mimetype": "text/x-python",
   "name": "python",
   "nbconvert_exporter": "python",
   "pygments_lexer": "ipython3",
   "version": "3.7.3"
  }
 },
 "nbformat": 4,
 "nbformat_minor": 2
}

{
 "cells": [
  {
   "cell_type": "markdown",
   "metadata": {},
   "source": [
    "# Before your start:\n",
    "- Read the README.md file\n",
    "- Comment as much as you can and use the resources (README.md file)\n",
    "- Happy learning!"
   ]
  },
  {
   "cell_type": "code",
   "execution_count": 1,
   "metadata": {},
   "outputs": [],
   "source": [
    "# Run this code:\n",
    "\n",
    "%matplotlib inline\n",
    "\n",
    "import matplotlib.pyplot as plt"
   ]
  },
  {
   "cell_type": "code",
   "execution_count": 2,
   "metadata": {},
   "outputs": [],
   "source": [
    "# Import numpy and pandas:\n",
    "import numpy as np\n",
    "import pandas as pd\n"
   ]
  },
  {
   "cell_type": "markdown",
   "metadata": {},
   "source": [
    "# Challenge 1 - Reading and Standardizing the Data\n",
    "\n",
    "In this challenge we will work with image data and reduce the dimensions of the data to create a 2 dimensional plot. While we have not worked much with image data before, it can be represented as a numpy array where each pixel is assigned a numeric value. In this lesson, we will look at a dataset of cats and a dataset of dogs and see whether reducing them to two dimensions allows us to see if the data is separable. We will start by loading and processing the data. Run the cell below to load the two csv files and convert them into numpy arrays."
   ]
  },
  {
   "cell_type": "code",
   "execution_count": 4,
   "metadata": {},
   "outputs": [],
   "source": [
    "# Run this code\n",
    "cats = np.array(pd.read_csv(\"https://raw.githubusercontent.com/bioramble/pca/master/cat.csv\",\n",
    "                            header=None))\n",
    "dogs = np.array(pd.read_csv(\"https://raw.githubusercontent.com/bioramble/pca/master/dog.csv\",\n",
    "                            header=None))"
   ]
  },
  {
   "cell_type": "markdown",
   "metadata": {},
   "source": [
    "Next, we'll examine the shape of both the cats and the dogs arrays. Print out both shapes below."
   ]
  },
  {
   "cell_type": "code",
   "execution_count": 5,
   "metadata": {},
   "outputs": [
    {
     "name": "stdout",
     "output_type": "stream",
     "text": [
      "(4096, 80)\n",
      "(4096, 80)\n"
     ]
    }
   ],
   "source": [
    "# Your code here:\n",
    "print(cats.shape)\n",
    "print(dogs.shape)"
   ]
  },
  {
   "cell_type": "markdown",
   "metadata": {},
   "source": [
    "What this means is that both arrays contain 80 images each (the number of columns). Each image is comprised of 64x64 pixels (so a total of 4096 pixels per image). The images have been flattened such that all 4096 are in a single row.\n",
    "\n",
    "Print out column 0 of the cats array to see what the pixels values look like."
   ]
  },
  {
   "cell_type": "code",
   "execution_count": 8,
   "metadata": {},
   "outputs": [
    {
     "data": {
      "text/plain": [
       "array([ 64,  23, 250, 137,  55, 173,  18, 134,  19,  47, 109, 164,  41,\n",
       "        78, 108, 108, 247, 105, 158,  54, 103,   4,  23, 102, 239,  72,\n",
       "        42,  21, 168, 109, 112, 177,  22, 233,  15, 236, 250, 137,  32,\n",
       "         5, 178, 109,  24, 107,  53, 241, 226, 143,   5, 136,  98, 100,\n",
       "        89,  66, 228,  92, 255,  88, 230,  56, 160,  69,   6,  24, 195,\n",
       "       183, 239,  35, 154, 154, 122,  18,  87, 106, 174,  69,  28,  60,\n",
       "       223, 101])"
      ]
     },
     "execution_count": 8,
     "metadata": {},
     "output_type": "execute_result"
    }
   ],
   "source": [
    "# Your code here:\n",
    "cats[0]\n"
   ]
  },
  {
   "cell_type": "markdown",
   "metadata": {},
   "source": [
    "Using `matplotlib` we can plot a single cat or a single dog. We do this by reshaping the vector back to a 64x64 image and then using the `imshow` function.\n",
    "\n",
    "Run the code below to look at the first dog and the first cat."
   ]
  },
  {
   "cell_type": "code",
   "execution_count": 9,
   "metadata": {},
   "outputs": [
    {
     "data": {
      "text/plain": [
       "<matplotlib.image.AxesImage at 0x123d40208>"
      ]
     },
     "execution_count": 9,
     "metadata": {},
     "output_type": "execute_result"
    },
    {
     "data": {
      "image/png": "[encoded data removed]",
      "text/plain": [
       "<Figure size 432x288 with 1 Axes>"
      ]
     },
     "metadata": {
      "needs_background": "light"
     },
     "output_type": "display_data"
    }
   ],
   "source": [
    "# Run this code:\n",
    "\n",
    "fig, ax = plt.subplots()\n",
    "ax.imshow(cats[:,0].reshape(64, 64).T, cmap=plt.cm.bone, interpolation='nearest') "
   ]
  },
  {
   "cell_type": "code",
   "execution_count": 10,
   "metadata": {},
   "outputs": [
    {
     "data": {
      "text/plain": [
       "<matplotlib.image.AxesImage at 0x1122c87f0>"
      ]
     },
     "execution_count": 10,
     "metadata": {},
     "output_type": "execute_result"
    },
    {
     "data": {
      "image/png": "[encoded data removed]",
      "text/plain": [
       "<Figure size 432x288 with 1 Axes>"
      ]
     },
     "metadata": {
      "needs_background": "light"
     },
     "output_type": "display_data"
    }
   ],
   "source": [
    "# Run this code:\n",
    "\n",
    "fig, ax = plt.subplots()\n",
    "ax.imshow(dogs[:,0].reshape(64, 64).T, cmap=plt.cm.bone, interpolation='nearest') "
   ]
  },
  {
   "cell_type": "markdown",
   "metadata": {},
   "source": [
    "Next, we would like to create a standardization function. This function will find the mean and standard deviation of each image. We subtract the mean from each pixel and divide each pixel by the standard deviation. Write the function below.\n",
    "\n",
    "Hint: To find the mean and standard deviation of each image, use `numpy`'s version of mean and stadnard deviation and use `axis=0`."
   ]
  },
  {
   "cell_type": "code",
   "execution_count": 46,
   "metadata": {},
   "outputs": [],
   "source": [
    "def standardize(x):\n",
    "    #This function takes as input a numpy array and returns a stadardized \n",
    "        #numpy array of the same dimensions.\n",
    "    #Sample input: np.array([[1,2,3],[4,5,6]])\n",
    "    #Sample output: np.array([[-1,-1,-1],[1,1,1]])\n",
    "    \n",
    "    # Your code here:\n",
    "    return x - np.mean(x,axis=0) / np.std(x,axis=0)"
   ]
  },
  {
   "cell_type": "code",
   "execution_count": 47,
   "metadata": {},
   "outputs": [
    {
     "data": {
      "text/plain": [
       "array([[ 63.07760703,  21.07593251, 249.20280934, ...,  56.65328032,\n",
       "        220.53552633,  98.28376397],\n",
       "       [ 63.07760703,  21.07593251, 249.20280934, ...,  46.65328032,\n",
       "        221.53552633, 104.28376397],\n",
       "       [ 63.07760703,  18.07593251, 249.20280934, ...,  59.65328032,\n",
       "        222.53552633, 103.28376397],\n",
       "       ...,\n",
       "       [ 63.07760703,  29.07593251, 243.20280934, ..., 101.65328032,\n",
       "        177.53552633, 111.28376397],\n",
       "       [ 63.07760703,  21.07593251, 231.20280934, ..., 114.65328032,\n",
       "        179.53552633,  88.28376397],\n",
       "       [ 60.07760703,   7.07593251, 243.20280934, ..., 100.65328032,\n",
       "        174.53552633, 110.28376397]])"
      ]
     },
     "execution_count": 47,
     "metadata": {},
     "output_type": "execute_result"
    }
   ],
   "source": [
    "standardize(cats)"
   ]
  },
  {
   "cell_type": "code",
   "execution_count": 48,
   "metadata": {},
   "outputs": [
    {
     "data": {
      "text/plain": [
       "array([[222.4944274 , 128.86833318, 124.76786855, ...,   4.73235677,\n",
       "         27.52602472, 195.54343472],\n",
       "       [222.4944274 , 121.86833318, 133.76786855, ...,   8.73235677,\n",
       "         66.52602472, 197.54343472],\n",
       "       [222.4944274 , 101.86833318, 124.76786855, ...,   4.73235677,\n",
       "         66.52602472, 193.54343472],\n",
       "       ...,\n",
       "       [ 98.4944274 , 101.86833318, 112.76786855, ...,   5.73235677,\n",
       "        160.52602472, 164.54343472],\n",
       "       [ 98.4944274 , 121.86833318, 101.76786855, ...,   8.73235677,\n",
       "        137.52602472, 168.54343472],\n",
       "       [ 98.4944274 , 121.86833318, 101.76786855, ...,   5.73235677,\n",
       "        137.52602472, 169.54343472]])"
      ]
     },
     "execution_count": 48,
     "metadata": {},
     "output_type": "execute_result"
    }
   ],
   "source": [
    "standardize(dogs)"
   ]
  },
  {
   "cell_type": "markdown",
   "metadata": {},
   "source": [
    "Now, use the `np.concatenate` function to combine the cats and dogs arrays. Use `axis=1` to combine the two correctly. Make sure to put dogs first."
   ]
  },
  {
   "cell_type": "code",
   "execution_count": 49,
   "metadata": {},
   "outputs": [],
   "source": [
    "# Your code here:\n",
    "cats_dogs = np.concatenate((cats, dogs), axis=1)"
   ]
  },
  {
   "cell_type": "markdown",
   "metadata": {},
   "source": [
    "Standardize the concatenated array below."
   ]
  },
  {
   "cell_type": "code",
   "execution_count": 118,
   "metadata": {},
   "outputs": [
    {
     "data": {
      "text/plain": [
       "array([[ 63.07760703,  21.07593251, 249.20280934, ...,   4.73235677,\n",
       "         27.52602472, 195.54343472],\n",
       "       [ 63.07760703,  21.07593251, 249.20280934, ...,   8.73235677,\n",
       "         66.52602472, 197.54343472],\n",
       "       [ 63.07760703,  18.07593251, 249.20280934, ...,   4.73235677,\n",
       "         66.52602472, 193.54343472],\n",
       "       ...,\n",
       "       [ 63.07760703,  29.07593251, 243.20280934, ...,   5.73235677,\n",
       "        160.52602472, 164.54343472],\n",
       "       [ 63.07760703,  21.07593251, 231.20280934, ...,   8.73235677,\n",
       "        137.52602472, 168.54343472],\n",
       "       [ 60.07760703,   7.07593251, 243.20280934, ...,   5.73235677,\n",
       "        137.52602472, 169.54343472]])"
      ]
     },
     "execution_count": 118,
     "metadata": {},
     "output_type": "execute_result"
    }
   ],
   "source": [
    "# Your code here:\n",
    "pets_concat = standardize(cats_dogs) \n",
    "pets_concat"
   ]
  },
  {
   "cell_type": "markdown",
   "metadata": {},
   "source": [
    "# Challenge 2 - Using PCA\n",
    "\n",
    "Now that we have created a standardized matrix of cats and dogs, we'll find the two most important components in the data.\n",
    "\n",
    "Load the `PCA` function from `statsmodels` (read about this function [here](https://www.statsmodels.org/dev/generated/statsmodels.multivariate.pca.PCA.html)) and apply the function to our standarized data. Create a PCA model with two components."
   ]
  },
  {
   "cell_type": "code",
   "execution_count": 119,
   "metadata": {},
   "outputs": [],
   "source": [
    "# Your code here:\n",
    "from statsmodels.multivariate.pca import PCA\n",
    "pc = PCA(pets_concat,ncomp = 2)"
   ]
  },
  {
   "cell_type": "markdown",
   "metadata": {},
   "source": [
    "Use `numpy` to find to transpose the standardized pet array. This will help us compute the projection."
   ]
  },
  {
   "cell_type": "code",
   "execution_count": 120,
   "metadata": {},
   "outputs": [
    {
     "data": {
      "text/plain": [
       "array([[ 63.07760703,  63.07760703,  63.07760703, ...,  63.07760703,\n",
       "         63.07760703,  60.07760703],\n",
       "       [ 21.07593251,  21.07593251,  18.07593251, ...,  29.07593251,\n",
       "         21.07593251,   7.07593251],\n",
       "       [249.20280934, 249.20280934, 249.20280934, ..., 243.20280934,\n",
       "        231.20280934, 243.20280934],\n",
       "       ...,\n",
       "       [  4.73235677,   8.73235677,   4.73235677, ...,   5.73235677,\n",
       "          8.73235677,   5.73235677],\n",
       "       [ 27.52602472,  66.52602472,  66.52602472, ..., 160.52602472,\n",
       "        137.52602472, 137.52602472],\n",
       "       [195.54343472, 197.54343472, 193.54343472, ..., 164.54343472,\n",
       "        168.54343472, 169.54343472]])"
      ]
     },
     "execution_count": 120,
     "metadata": {},
     "output_type": "execute_result"
    }
   ],
   "source": [
    "# Your code here:\n",
    "pets_concat.T"
   ]
  },
  {
   "cell_type": "markdown",
   "metadata": {},
   "source": [
    "Find the dot product of the transposed standardized pet matrix and the `factors` of the `PCA` model found above. This will be the projection onto 2 dimensions. This means that each cat and dog image will now only have two columns instead of 4096."
   ]
  },
  {
   "cell_type": "code",
   "execution_count": 121,
   "metadata": {},
   "outputs": [],
   "source": [
    "# Your code here:\n",
    "pets_dot = np.dot(pets_concat.T,pc.factors)"
   ]
  },
  {
   "cell_type": "markdown",
   "metadata": {},
   "source": [
    "# Challenge 3 - Plotting the Data\n",
    "\n",
    "Now that we have reduced our cats and dogs arrays, we can easily plot the data in a way that the human eye can understand. We can look at this plot to see whether there are differences between the cat and dog images. \n",
    "\n",
    "In the cell below, turn the two dimensional projection into a pandas dataframe and name the columns `pc1`, and `pc2` respectively."
   ]
  },
  {
   "cell_type": "code",
   "execution_count": 122,
   "metadata": {},
   "outputs": [
    {
     "name": "stdout",
     "output_type": "stream",
     "text": [
      "             pc1          pc2\n",
      "0    -994.754255   903.485200\n",
      "1   -2735.704512    56.175009\n",
      "2    4634.589331   361.104631\n",
      "3    1761.819875   -57.396657\n",
      "4   -1733.774126  1005.641991\n",
      "5   -1299.710125  2050.695029\n",
      "6   -2317.369138  -166.045638\n",
      "7    -267.251645   870.756856\n",
      "8   -2915.666315   524.390491\n",
      "9   -1605.378710  1314.017556\n",
      "10      3.141173   224.755110\n",
      "11    312.346390   239.289306\n",
      "12  -3497.299280   668.607415\n",
      "13  -1706.859579   670.160891\n",
      "14   1815.637888   864.443999\n",
      "15  -1198.342246   503.236523\n",
      "16   1511.309435   569.273731\n",
      "17  -1812.781380   571.293429\n",
      "18   2255.497762   -41.639449\n",
      "19  -2739.632146   267.438206\n",
      "20    626.522058   697.331946\n",
      "21  -2674.646176  -140.474743\n",
      "22  -2102.770699  -772.038427\n",
      "23  -1818.724540 -1716.202690\n",
      "24   3757.993971   428.097832\n",
      "25   -389.661583 -1198.951866\n",
      "26  -1655.385381   852.986731\n",
      "27  -2036.059399 -1172.845987\n",
      "28   1110.972657   129.905716\n",
      "29   -984.314984   490.686409\n",
      "..           ...          ...\n",
      "130  1579.939262   593.690534\n",
      "131  2059.046396  1502.713727\n",
      "132   199.895301   494.916255\n",
      "133 -1252.946921 -2311.979854\n",
      "134  -943.367180  -217.276225\n",
      "135  -977.760057  -261.759944\n",
      "136  1399.040582   298.939841\n",
      "137   620.946132   509.915088\n",
      "138 -1181.694537 -1908.038851\n",
      "139  -100.404647 -1470.273686\n",
      "140   434.910190 -2197.374611\n",
      "141  1339.106047   927.132788\n",
      "142  1990.589438   353.926202\n",
      "143 -1008.852293   129.435793\n",
      "144  -721.122109  -601.393384\n",
      "145  1648.500991    -7.022625\n",
      "146   355.431586  1538.824865\n",
      "147 -2521.556840  -893.836656\n",
      "148  -174.313094  -247.257745\n",
      "149  1368.044968 -1747.207283\n",
      "150  -648.881853  -719.387731\n",
      "151   -57.668410 -1827.523847\n",
      "152  1829.794860 -1753.789211\n",
      "153 -1034.777848 -1183.606124\n",
      "154   520.746099  1269.067818\n",
      "155  2033.120189   299.590284\n",
      "156  1935.938658  -505.054333\n",
      "157  -739.072371 -3090.473165\n",
      "158  -197.576298 -1956.292323\n",
      "159  2685.680740   184.345505\n",
      "\n",
      "[160 rows x 2 columns]\n"
     ]
    }
   ],
   "source": [
    "# Your code here:\n",
    "df = pd.DataFrame(pets_dot)\n",
    "df.columns='pc1','pc2'\n",
    "print(df)"
   ]
  },
  {
   "cell_type": "markdown",
   "metadata": {},
   "source": [
    "Create a labels list. This list will be of size 160. The first 80 elements in the list will be the word `blue`, and the last 80 elements will be `red`. This will ensure that all dog observations will be colored in blue and all cats will be colored in red. Name this list `colors`."
   ]
  },
  {
   "cell_type": "code",
   "execution_count": 123,
   "metadata": {},
   "outputs": [
    {
     "name": "stdout",
     "output_type": "stream",
     "text": [
      "['blue', 'blue', 'blue', 'blue', 'blue', 'blue', 'blue', 'blue', 'blue', 'blue', 'blue', 'blue', 'blue', 'blue', 'blue', 'blue', 'blue', 'blue', 'blue', 'blue', 'blue', 'blue', 'blue', 'blue', 'blue', 'blue', 'blue', 'blue', 'blue', 'blue', 'blue', 'blue', 'blue', 'blue', 'blue', 'blue', 'blue', 'blue', 'blue', 'blue', 'blue', 'blue', 'blue', 'blue', 'blue', 'blue', 'blue', 'blue', 'blue', 'blue', 'blue', 'blue', 'blue', 'blue', 'blue', 'blue', 'blue', 'blue', 'blue', 'blue', 'blue', 'blue', 'blue', 'blue', 'blue', 'blue', 'blue', 'blue', 'blue', 'blue', 'blue', 'blue', 'blue', 'blue', 'blue', 'blue', 'blue', 'blue', 'blue', 'blue', 'red', 'red', 'red', 'red', 'red', 'red', 'red', 'red', 'red', 'red', 'red', 'red', 'red', 'red', 'red', 'red', 'red', 'red', 'red', 'red', 'red', 'red', 'red', 'red', 'red', 'red', 'red', 'red', 'red', 'red', 'red', 'red', 'red', 'red', 'red', 'red', 'red', 'red', 'red', 'red', 'red', 'red', 'red', 'red', 'red', 'red', 'red', 'red', 'red', 'red', 'red', 'red', 'red', 'red', 'red', 'red', 'red', 'red', 'red', 'red', 'red', 'red', 'red', 'red', 'red', 'red', 'red', 'red', 'red', 'red', 'red', 'red', 'red', 'red', 'red', 'red', 'red', 'red', 'red', 'red']\n"
     ]
    }
   ],
   "source": [
    "# Your code here:\n",
    "colors = 80*['blue']+80*['red']\n",
    "print(colors)"
   ]
  },
  {
   "cell_type": "markdown",
   "metadata": {},
   "source": [
    "Create a scatter plot of `pc1` and `pc2` below. Use the `colors` list above to color the observations by setting `c=colors`."
   ]
  },
  {
   "cell_type": "code",
   "execution_count": 128,
   "metadata": {},
   "outputs": [
    {
     "data": {
      "image/png": "[encoded data removed]",
      "text/plain": [
       "<Figure size 576x576 with 1 Axes>"
      ]
     },
     "metadata": {
      "needs_background": "light"
     },
     "output_type": "display_data"
    }
   ],
   "source": [
    "# Your code here:\n",
    "fig, ax = plt.subplots(figsize = (8, 8))\n",
    "plt.scatter(df.pc1,df.pc2, c=colors, alpha=0.5)\n",
    "plt.legend()\n",
    "plt.show()"
   ]
  },
  {
   "cell_type": "markdown",
   "metadata": {},
   "source": [
    "Do you see a clear separation between cats and dogs? Write your answer below."
   ]
  },
  {
   "cell_type": "code",
   "execution_count": null,
   "metadata": {},
   "outputs": [],
   "source": [
    "# Your conclusions here:\n",
    "'''\n",
    "there is no a clear separation but blue points have a horizontale distribution and red have a \n",
    "verticale distribution\n",
    "\n",
    "'''"
   ]
  }
 ],
 "metadata": {
  "kernelspec": {
   "display_name": "Python 3",
   "language": "python",
   "name": "python3"
  },
  "language_info": {
   "codemirror_mode": {
    "name": "ipython",
    "version": 3
   },
   "file_extension": ".py",
   "mimetype": "text/x-python",
   "name": "python",
   "nbconvert_exporter": "python",
   "pygments_lexer": "ipython3",
   "version": "3.7.0"
  }
 },
 "nbformat": 4,
 "nbformat_minor": 2
}
